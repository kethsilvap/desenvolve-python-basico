{
  "nbformat": 4,
  "nbformat_minor": 0,
  "metadata": {
    "colab": {
      "provenance": []
    },
    "kernelspec": {
      "name": "python3",
      "display_name": "Python 3"
    },
    "language_info": {
      "name": "python"
    }
  },
  "cells": [
    {
      "cell_type": "markdown",
      "source": [
        "# Módulo 2\n",
        "\n",
        "## 2.3 Instruções e Expressões\n",
        "\n",
        "### Q1\n",
        "\n",
        "Faça um programa que armazene o valor de 20 reais de salário por hora de um trabalhador, e o número de 40 horas trabalhadas na semana. Com essas informações, calcule e imprima:\n",
        "- Salário semanal bruto\n",
        "- Valor descontado por semana INSS (10% do bruto)\n",
        "- Valor descontado por semana pelo sindicato (5% do bruto)\n",
        "- Salário semanal líquido (Bruto - Descontos)"
      ],
      "metadata": {
        "id": "1pCTdOHonv5f"
      }
    },
    {
      "cell_type": "code",
      "execution_count": null,
      "metadata": {
        "id": "hVbX0I97nj6M",
        "colab": {
          "base_uri": "https://localhost:8080/"
        },
        "outputId": "b1d286b8-6a36-423f-9916-20ac55971dd7"
      },
      "outputs": [
        {
          "output_type": "stream",
          "name": "stdout",
          "text": [
            "Salário bruto semanal: R$ 800\n",
            "Desconto INSS (10%): R$ 80.0\n",
            "Desconto sindicato (5%): R$ 40.0\n",
            "Salário líquido semanal: R$ 680.0\n"
          ]
        }
      ],
      "source": [
        "# Q1\n",
        "\n",
        "# Etapa 1: Armazenar dados\n",
        "salario_por_hora = 20\n",
        "horas_trabalhadas = 40\n",
        "\n",
        "# Etapa 2: Calcular salário bruto\n",
        "salario_bruto = salario_por_hora * horas_trabalhadas\n",
        "\n",
        "# Etapa 3: Calcular descontos\n",
        "desconto_inss = salario_bruto * 0.10\n",
        "desconto_sindicato = salario_bruto * 0.05\n",
        "\n",
        "# Etapa 4: Calcular salário líquido\n",
        "salario_liquido = salario_bruto - (desconto_inss + desconto_sindicato)\n",
        "\n",
        "# Etapa 5: Mostrar resultados\n",
        "print(\"Salário bruto semanal: R$\", round(salario_bruto, 2))\n",
        "print(\"Desconto INSS (10%): R$\", round(desconto_inss, 2))\n",
        "print(\"Desconto sindicato (5%): R$\", round(desconto_sindicato, 2))\n",
        "print(\"Salário líquido semanal: R$\", round(salario_liquido, 2))"
      ]
    },
    {
      "cell_type": "markdown",
      "source": [
        "### Q2\n",
        "\n",
        "Altere o programa anterior para a partir dos valores de horas trabalhadas por semana e salário por hora, calcular **em somente duas instruções**:\n",
        "- Salário semanal bruto\n",
        "- Salário semanal líquido com todos os descontos. Para a segunda instrução, realize todos os cálculos aritméticos em uma expressão composta.\n"
      ],
      "metadata": {
        "id": "pIxKX9J2oGZ1"
      }
    },
    {
      "cell_type": "code",
      "source": [
        "# Q2\n",
        "\n",
        "# Dados\n",
        "salario_por_hora = 20\n",
        "horas_trabalhadas = 40\n",
        "\n",
        "# 1ª instrução: salário bruto\n",
        "salario_bruto = salario_por_hora * horas_trabalhadas\n",
        "\n",
        "# 2ª instrução: salário líquido (já com descontos de 10% + 5%)\n",
        "salario_liquido = salario_bruto - (salario_bruto * 0.10 + salario_bruto * 0.05)\n",
        "\n",
        "# Resultados\n",
        "print(\"Salário bruto semanal: R$\", round(salario_bruto, 2))\n",
        "print(\"Salário líquido semanal: R$\", round(salario_liquido, 2))"
      ],
      "metadata": {
        "id": "pAHw9Xf9oGoi",
        "colab": {
          "base_uri": "https://localhost:8080/"
        },
        "outputId": "5145b9c1-d427-475c-8fdf-ebe1c25db0d3"
      },
      "execution_count": null,
      "outputs": [
        {
          "output_type": "stream",
          "name": "stdout",
          "text": [
            "Salário bruto semanal: R$ 800\n",
            "Salário líquido semanal: R$ 680.0\n"
          ]
        }
      ]
    },
    {
      "cell_type": "markdown",
      "source": [
        "### Q3\n",
        "\n",
        "Você está desenvolvendo um software de conversão de moeda e precisa calcular o valor equivalente em yuan chinês a partir de uma quantia em real. A taxa de câmbio é de 0.69 BRL (real) para 1 CNY (yuan). Escreva um programa que define em uma variável uma quantia em reais (BRL) e calcula o valor equivalente em yuan (CNY). Imprima o resultado."
      ],
      "metadata": {
        "id": "m8tlHRuWpBOB"
      }
    },
    {
      "cell_type": "code",
      "source": [
        "# Q3\n",
        "\n",
        "# Valor em reais (você pode mudar o número pra testar outros valores)\n",
        "valor_em_reais = 100\n",
        "\n",
        "# Taxa de câmbio: 1 yuan = 0.69 real\n",
        "taxa_cambio = 0.69\n",
        "\n",
        "# Cálculo do valor em yuan\n",
        "valor_em_yuan = valor_em_reais / taxa_cambio\n",
        "\n",
        "# Exibir resultado\n",
        "print(\"Valor em reais (BRL): R$\", valor_em_reais)\n",
        "print(\"Valor equivalente em yuan (CNY): ¥\", round(valor_em_yuan, 2))"
      ],
      "metadata": {
        "id": "2bPw7uF6oeL9",
        "colab": {
          "base_uri": "https://localhost:8080/"
        },
        "outputId": "2e4356bc-cdbf-438b-9470-8664a007d76e"
      },
      "execution_count": null,
      "outputs": [
        {
          "output_type": "stream",
          "name": "stdout",
          "text": [
            "Valor em reais (BRL): R$ 100\n",
            "Valor equivalente em yuan (CNY): ¥ 144.93\n"
          ]
        }
      ]
    },
    {
      "cell_type": "markdown",
      "source": [
        "### Q4\n",
        "\n",
        "Você é um treinador de corrida e deseja calcular a velocidade média que um atleta precisa manter para completar a Maratona Internacional de São Silvestre, que tem uma distância total de 42.195 km. A fórmula para calcular a velocidade média ($v\\_media$) é dada por $v\\_media = \\frac{distancia}{tempo}$ . Escreva um programa em Python para calcular a velocidade média necessária para completar a maratona em 3 horas.\n",
        "\n",
        "**Calcule e imprima o resultado em metros/segundo**, ou seja, converta a distância de quilômetros para metros ($metro = \\frac{km}{1000}$) e a velocidade de horas para segundos $(segundo = \\frac{hora}{3600})$."
      ],
      "metadata": {
        "id": "-Na3ltDCp74A"
      }
    },
    {
      "cell_type": "code",
      "source": [
        "# Q4\n",
        "\n",
        "# Dados\n",
        "distancia_km = 42.195\n",
        "tempo_horas = 3\n",
        "\n",
        "# Conversões\n",
        "distancia_metros = distancia_km * 1000      # km → m\n",
        "tempo_segundos = tempo_horas * 3600         # h → s\n",
        "\n",
        "# Cálculo da velocidade média (v = d / t)\n",
        "velocidade_media = distancia_metros / tempo_segundos\n",
        "\n",
        "# Resultado\n",
        "print(\"Distância em metros:\", distancia_metros, \"m\")\n",
        "print(\"Tempo em segundos:\", tempo_segundos, \"s\")\n",
        "print(\"Velocidade média necessária:\", round(velocidade_media, 2), \"m/s\")"
      ],
      "metadata": {
        "id": "Bn6l8kcSrE4L",
        "colab": {
          "base_uri": "https://localhost:8080/"
        },
        "outputId": "4e3b12d2-7371-4ac1-d935-c2032d749a26"
      },
      "execution_count": null,
      "outputs": [
        {
          "output_type": "stream",
          "name": "stdout",
          "text": [
            "Distância em metros: 42195.0 m\n",
            "Tempo em segundos: 10800 s\n",
            "Velocidade média necessária: 3.91 m/s\n"
          ]
        }
      ]
    }
  ]
}
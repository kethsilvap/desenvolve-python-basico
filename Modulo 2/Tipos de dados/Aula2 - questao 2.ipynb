{
  "metadata": {
    "kernelspec": {
      "name": "xpython",
      "display_name": "Python 3.13 (XPython)",
      "language": "python"
    },
    "language_info": {
      "file_extension": ".py",
      "mimetype": "text/x-python",
      "name": "python",
      "version": "3.13.1"
    }
  },
  "nbformat_minor": 5,
  "nbformat": 4,
  "cells": [
    {
      "id": "c5f26bf2-0477-4f6d-a956-17a02be825e0",
      "cell_type": "code",
      "source": "texto = \"o resultado é\"\nnum1 = 10\nnum2 = 3.5\n\nsoma = num1 + num2\n\nprint(texto, type(texto))\nprint(num1, type(num1))\nprint(num2, type(num2))\nprint(soma, type(soma))",
      "metadata": {
        "trusted": true
      },
      "outputs": [
        {
          "name": "stdout",
          "output_type": "stream",
          "text": "o resultado é <class 'str'>\n10 <class 'int'>\n3.5 <class 'float'>\n13.5 <class 'float'>\n"
        }
      ],
      "execution_count": 1
    }
  ]
}
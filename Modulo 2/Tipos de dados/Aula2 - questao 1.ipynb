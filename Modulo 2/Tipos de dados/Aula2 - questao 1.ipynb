{
  "metadata": {
    "kernelspec": {
      "name": "xpython",
      "display_name": "Python 3.13 (XPython)",
      "language": "python"
    },
    "language_info": {
      "file_extension": ".py",
      "mimetype": "text/x-python",
      "name": "python",
      "version": "3.13.1"
    }
  },
  "nbformat_minor": 5,
  "nbformat": 4,
  "cells": [
    {
      "id": "0b65d2a8-f96a-46d4-acb4-525bb5978ee6",
      "cell_type": "code",
      "source": "v1 = 5\nv2 = 2\nprint(type(v1))\nprint(type(v2))\n\nresultado = v1 / v2\nprint(resultado)\nprint(type(resultado))",
      "metadata": {
        "trusted": true
      },
      "outputs": [
        {
          "name": "stdout",
          "output_type": "stream",
          "text": "<class 'int'>\n<class 'int'>\n2.5\n<class 'float'>\n"
        }
      ],
      "execution_count": 3
    }
  ]
}
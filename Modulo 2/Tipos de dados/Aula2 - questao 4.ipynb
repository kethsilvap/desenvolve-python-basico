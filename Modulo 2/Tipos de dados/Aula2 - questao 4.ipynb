{
  "metadata": {
    "kernelspec": {
      "name": "xpython",
      "display_name": "Python 3.13 (XPython)",
      "language": "python"
    },
    "language_info": {
      "file_extension": ".py",
      "mimetype": "text/x-python",
      "name": "python",
      "version": "3.13.1"
    }
  },
  "nbformat_minor": 5,
  "nbformat": 4,
  "cells": [
    {
      "id": "39e89d61-04e5-44be-baa9-b7bde3dbbbf2",
      "cell_type": "code",
      "source": "saldo = 500.0\njuros = 1.01\n\nsaldo = saldo*juros\nsaldo = saldo*juros\nsaldo = saldo*juros\n\nprint(\"Apos 3 meses meu novo saldo é\")\nprint(saldo)",
      "metadata": {
        "trusted": true
      },
      "outputs": [
        {
          "name": "stdout",
          "output_type": "stream",
          "text": "Apos 3 meses meu novo saldo é\n515.1505\n"
        }
      ],
      "execution_count": 2
    }
  ]
}
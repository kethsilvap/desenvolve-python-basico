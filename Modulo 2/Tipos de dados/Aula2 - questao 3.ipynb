{
  "metadata": {
    "kernelspec": {
      "name": "xpython",
      "display_name": "Python 3.13 (XPython)",
      "language": "python"
    },
    "language_info": {
      "file_extension": ".py",
      "mimetype": "text/x-python",
      "name": "python",
      "version": "3.13.1"
    }
  },
  "nbformat_minor": 5,
  "nbformat": 4,
  "cells": [
    {
      "id": "77495efa-17a3-4e90-bd28-c932cd3076c8",
      "cell_type": "code",
      "source": "v1=10\nv2=20\n\naux = v1\nv1 = v2\nv2 = aux\n\nprint(v1)\nprint(v2)",
      "metadata": {
        "trusted": true
      },
      "outputs": [
        {
          "name": "stdout",
          "output_type": "stream",
          "text": "20\n10\n"
        }
      ],
      "execution_count": 1
    }
  ]
}